{
 "cells": [
  {
   "cell_type": "markdown",
   "id": "e1c734bd-5873-4a94-8ff0-7718bf4b0beb",
   "metadata": {},
   "source": [
    "# DATA SCIENCE TOOLS AND ECOSYSTEM"
   ]
  },
  {
   "cell_type": "markdown",
   "id": "054ea73d-75f5-403e-83d1-db2d6402a4eb",
   "metadata": {
    "tags": []
   },
   "source": [
    "### In this notebook, Data Science Tools and Ecosystem are summarized."
   ]
  },
  {
   "cell_type": "markdown",
   "id": "71ac78bb-a569-4a05-8af7-3e46944fbb5c",
   "metadata": {},
   "source": [
    "**OBJECTIVES**\n",
    "- Data science languages\n",
    "- Data science tools\n",
    "- Data science libraries"
   ]
  },
  {
   "cell_type": "markdown",
   "id": "ff4a6607-d296-4b97-a36e-ab890a8fec68",
   "metadata": {},
   "source": []
  },
  {
   "cell_type": "markdown",
   "id": "eb724caf-48c5-48ce-8019-952b3916d12f",
   "metadata": {},
   "source": [
    "### Some of the popular languages that Data Scientists use are:\n",
    "\n",
    "1. Python\n",
    "2. R\n",
    "3. SQL\n"
   ]
  },
  {
   "cell_type": "markdown",
   "id": "ae8f0dab-adfe-483c-b023-89835facd290",
   "metadata": {
    "tags": []
   },
   "source": [
    "**OBJECTIVES**\n",
    "- Data Science Languages\n",
    "- Data science tools\n",
    "- Data science libraries\n"
   ]
  },
  {
   "cell_type": "markdown",
   "id": "08535a01-550f-4a59-a511-ac309a316efb",
   "metadata": {},
   "source": [
    "### Some of the commonly used libraries used by Data Scientists include:\n",
    "1.Pandas\n",
    "2.NumPy\n",
    "3.Skicit-learn"
   ]
  },
  {
   "cell_type": "markdown",
   "id": "743719ed-76e6-40c5-8d13-1a6791fcd79b",
   "metadata": {},
   "source": [
    "### Some of the commonly used libraries used by Data Scientists include:\n",
    "1. Pandas\n",
    "2. NumPy\n",
    "3.Scikit-learn"
   ]
  },
  {
   "cell_type": "markdown",
   "id": "3cf37c7b-bd92-4de3-b7b0-ae53de5b1c7b",
   "metadata": {},
   "source": [
    "### Some of the commonly used libraries used by Data Scientists include:"
   ]
  },
  {
   "cell_type": "markdown",
   "id": "6fab3276-4af8-47d1-92b1-e3d1ed5c3f74",
   "metadata": {},
   "source": [
    "1. Pandas\n",
    "2. Scikit learn\n",
    "3. NumPy\n",
    "4. Matplotlib\n",
    "5.TensorFlow\n"
   ]
  },
  {
   "cell_type": "markdown",
   "id": "d528f7af-a90e-4179-be36-301d217dec16",
   "metadata": {},
   "source": [
    "| Data Science Tools |\n",
    "|:------------------:|\n",
    "| 1. Apache Spark    |\n",
    "| 2. Apache Hadoop   |\n",
    "| 3. TensorFlow      |"
   ]
  },
  {
   "cell_type": "markdown",
   "id": "d1c8e923-0465-44bf-a3a7-fbd4f9318f87",
   "metadata": {},
   "source": [
    "### Below are a few examples of evaluating arithmetic expressions in Python"
   ]
  },
  {
   "cell_type": "code",
   "execution_count": 2,
   "id": "0ce4a2d9-9da4-4d3e-8ac4-5c5fb8c56494",
   "metadata": {
    "tags": []
   },
   "outputs": [
    {
     "data": {
      "text/plain": [
       "17"
      ]
     },
     "execution_count": 2,
     "metadata": {},
     "output_type": "execute_result"
    }
   ],
   "source": [
    "# This a simple arithmetic expression to mutiply then add integers.\n",
    "(3*4)+5"
   ]
  },
  {
   "cell_type": "code",
   "execution_count": 3,
   "id": "8ee5d5b2-96cf-424e-a1b1-6321f5771a66",
   "metadata": {
    "tags": []
   },
   "outputs": [
    {
     "data": {
      "text/plain": [
       "3.3333333333333335"
      ]
     },
     "execution_count": 3,
     "metadata": {},
     "output_type": "execute_result"
    }
   ],
   "source": [
    "#This will convert 200 minutes to hours by diving by 60.\n",
    "200/60"
   ]
  },
  {
   "cell_type": "markdown",
   "id": "e6be560f-75df-4e5d-95f2-71a5c743dbef",
   "metadata": {},
   "source": [
    "## AUTHOR \n",
    "SAKSHI KAINTH"
   ]
  },
  {
   "cell_type": "code",
   "execution_count": null,
   "id": "2104411d-95f0-47d4-bdd0-16abb76e108c",
   "metadata": {},
   "outputs": [],
   "source": []
  }
 ],
 "metadata": {
  "kernelspec": {
   "display_name": "Python",
   "language": "python",
   "name": "conda-env-python-py"
  },
  "language_info": {
   "codemirror_mode": {
    "name": "ipython",
    "version": 3
   },
   "file_extension": ".py",
   "mimetype": "text/x-python",
   "name": "python",
   "nbconvert_exporter": "python",
   "pygments_lexer": "ipython3",
   "version": "3.7.12"
  }
 },
 "nbformat": 4,
 "nbformat_minor": 5
}
